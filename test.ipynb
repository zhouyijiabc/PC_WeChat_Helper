{
 "cells": [
  {
   "cell_type": "code",
   "execution_count": 52,
   "metadata": {
    "collapsed": true
   },
   "outputs": [
    {
     "name": "stdout",
     "output_type": "stream",
     "text": [
      "--------------------\n",
      "长沙环保分部客服 JT2910383763354 疫情滞留\n",
      "JT2910775968858 外包装破损/变形,内件不详\n",
      "JT2910582362035 退回件a\n",
      "JT2910658829916 电话无人接听或关机\n",
      "JT2910788121746 疫情管制\n",
      "JT2910559374841 客户地址无法进入\n",
      "JT2910727470969 客户地址无法进入\n",
      "JT2910745701427 更改派送地址a\n",
      "JT2910714184568 疫情滞留\n",
      "JT2910770660297 客户地址无法进入\n",
      "JT2910704410099 疫情管制\n",
      "JT2910706182602 疫情管制\n",
      "JT2910705508727 疫情管制\n",
      "JT2910701356485 疫情管制\n",
      "JT2910602437625 更改派送地址a\n",
      "JT2910606192332 电话无人接听或关机\n",
      "JT2910701356474 更改派送时间a\n",
      "JT2910361164323 自提未取a\n",
      "JT2910605317275 抬头错a\n",
      "JT2910606067381 疫情滞留\n",
      "JT2910601264855 退回件a\n",
      "JT2910623885388 疫情滞留\n",
      "JT2910622536087 疫情滞留\n",
      "JT2910607269991 疫情滞留\n",
      "JT2910604850567 疫情滞留\n",
      "JT2910607072415 疫情滞留\n",
      "JT2910605414319 疫情滞留\n",
      "JT2910620770545 疫情滞留\n",
      "JT2910622624050 疫情滞留\n",
      "JT2910658827569 地址信息不详\n",
      "JT2910622624050 疫情滞留\n",
      "JT2910582037166 疫情滞留\n",
      "JT2910516095842 电话无人接听或关机\n",
      "JT2910599222072 疫情滞留\n",
      "JT2910600002683 疫情滞留\n",
      "JT2910607269195 疫情滞留\n",
      "JT2910605609539 疫情滞留\n",
      "JT2910624360954 疫情滞留\n",
      "JT2910495165353 多次派送客户不在\n",
      "JT2910622065349 疫情滞留\n",
      "JT2909881469828 退回件a\n",
      "JT2910356364920 疫情滞留\n",
      "JT2910606093078 更改派送地址a\n",
      "JT2910658829916 电话无人接听或关机\n",
      "JT2910745701869 疫情管制\n",
      "JT2910744225495 疫情管制\n",
      "JT2910726061035 疫情管制\n",
      "JT2910705013276 疫情管制\n",
      "JT2910705013232 疫情管制\n",
      "JT2910380648733 其他a\n",
      "JT2910495127486 疫情滞留\n",
      "JT2910601172420 未开箱无理由拒收\n",
      "JT2910606965963 客户地址无法进入\n",
      "--------------------\n",
      "--------------------\n",
      "长沙环保分部客服 JT2910606093078 退回件a\n",
      "JT2910605317275 抬头错a\n",
      "JT2910606091416 更改派送时间a\n",
      "JT2910606192332 电话无人接听或关机\n",
      "JT2910658829916 电话无人接听或关机\n",
      "JT2910603740882 更改派送地址a\n",
      "JT2910600638512 客户地址无法进入\n",
      "JT2909247122862 电话无人接听或关机\n",
      "JT2910601458802 疫情管制\n",
      "JT2910659019846 外包装破损/变形,内件不详\n",
      "JT2910664298552 外包装破损/变形,内件不详\n",
      "JT5138144417058 自提未取a\n",
      "JT5139357567700 抬头错a\n",
      "JT5139364997619 异常拦截件a\n",
      "JT5139282219030 更改派送时间a\n",
      "JT5138828185193 自提未取a\n",
      "JT5139357105464 更改派送时间a\n",
      "JT5139142447026 疫情滞留\n",
      "JT5138935758106 电话无人接听或关机\n",
      "JT5138144417058 自提未取a\n",
      "JT5138472931692 疫情管制\n",
      "JT5138828185193 自提未取a\n",
      "JT5138926308879 疫情管制\n",
      "JT5138456341858 疫情滞留\n",
      "JT5138456342420 疫情滞留\n",
      "JT5138294855092 疫情滞留\n",
      "JT5138472931272 电话无人接听或关机\n",
      "JT5137731503639 客户不在\n",
      "JT5138144417058 自提未取a\n",
      "JT5139142303886 疫情管制\n",
      "JT5139142298929 开箱后无理由拒收\n",
      "JT5138472931692 疫情滞留\n",
      "JT5138828185193 自提未取a\n",
      "JT5139213361161 退回件a\n",
      "JT5138472931272 电话无人接听或关机\n",
      "JT5138910309693 疫情滞留\n",
      "JT5138911645309 自提未取a\n",
      "JT5137856538601 电话无人接听或关机\n",
      "JT5137482755103 自提未取a\n",
      "JT5138287401990 自提件a\n",
      "JT5138828185193 自提未取a\n",
      "JT5138308524820 退回件a\n",
      "JT5137482755103 自提未取a\n",
      "JT3010168951519 更改派送时间a \n",
      "JT3010244606852 电话无人接听或关机 \n",
      "JT3010006669824 疫情管制 \n",
      "JT3010123771405 电话无人接听或关机 \n",
      "JT3010006669824 疫情管制 \n",
      "JT3009607919456 客户地址无法进入 \n",
      "JT3010017133482 疫情管制 \n",
      "--------------------\n",
      "--------------------\n",
      "-浅野 \n",
      "JT2910931804498孤狼，17350666758，福建省 南平市 武夷山市 兴田镇 武夷山市仙店村======拦截\n",
      "--------------------\n",
      "--------------------\n",
      "-浅野 \n",
      "JT2910704427520刘先生，13632760990，广东省 深圳市 南山区 南山街道 南光村85号(优选百货)代收=======拦截\n",
      "--------------------\n",
      "--------------------\n",
      "长沙环保分部客服 ==\n",
      "--------------------\n",
      "--------------------\n",
      "玥芽 JT2910931804498已拦截取消寄件\n",
      "JT2910704427520已拦截\n",
      "--------------------\n",
      "--------------------\n",
      "玥芽 ================================\n",
      "--------------------\n",
      "--------------------\n",
      "辣样子旗舰店 JT5139032626527\n",
      "段柳艳[4313]\n",
      "18466807223\n",
      "广东省东莞市东坑镇 东坑镇塔岗村东兴东路281号晶品便利店代收[4313]\n",
      "\n",
      "买家反映送错地址 核实下\n",
      "--------------------\n",
      "--------------------\n",
      "-浅野 \n",
      "JT2910605800288曼*查看\n",
      "18*******29\n",
      "江苏省常州市武进区前黄镇 ***\n",
      "--------------------\n",
      "--------------------\n",
      "-浅野 这个签收底单给我一下\n",
      "--------------------\n",
      "--------------------\n",
      "-浅野 有照片就行\n",
      "--------------------\n",
      "--------------------\n",
      "-浅野 证明已经签收的那种\n",
      "--------------------\n",
      "--------------------\n",
      "玥芽 JT2910605800288已通知核实处理\n",
      "JT5139032626527已通知核实处理\n",
      "--------------------\n",
      "--------------------\n",
      "辣样子旗舰店 JT3010277891689\n",
      "Lavender Leung，13570498716，广东省 佛山市 南海区 桂城街道佛山市南海区平洲三山中南粮仓东侧禾仰地磅停车场内最后两层板房，000000\n",
      "\n",
      "买家催件\n",
      "--------------------\n",
      "--------------------\n",
      "-浅野 \n",
      "JT2910887500997比清措，19139710079，四川省 阿坝藏族羌族自治州 阿坝县 阿坝镇 阿坝县阿坝镇农具厂小哈佛幼儿园======拦截\n",
      "--------------------\n",
      "--------------------\n",
      "Summer 极兔速递 JT2910557348983\n",
      "王元元 18402172529 上海市上海市普陀区长寿路街道澳门小区前门660弄88号----------显示签收，买家未收到，麻烦尽快核实\n",
      "--------------------\n",
      "--------------------\n",
      "Summer [图片]\n",
      "--------------------\n",
      "--------------------\n",
      "辣样子旗舰店 JT5139365105723\n",
      "倩倩[2393]\n",
      "18466721770\n",
      "广东省广州市白云区 太营路163号营溪营北九巷2号，（可放惠群超市）[2393]\n",
      "\n",
      "买家反映没找到快递 麻烦核实一下\n",
      "--------------------\n",
      "--------------------\n",
      "奋(*^ω^*)斗 JT2910713677850    李玲[3098] 13141214309[虚] 浙江省嘉兴市海盐县西塘桥街道 浙江省嘉兴市海盐县 杭州湾大道1688号上海隧道工程智造海盐有限公司  客户说没收到 麻烦核实\n",
      "--------------------\n",
      "--------------------\n",
      "玥芽 JT5139629780552已催件 \n",
      "JT2910557348983已通知核实处理\n",
      "JT2910887500997已拦截\n",
      "JT5139365105723已通知核实处理\n",
      "JT2910713677850 已通知核实处理\n",
      "--------------------\n",
      "--------------------\n",
      "玥芽 =========================\n",
      "--------------------\n",
      "--------------------\n",
      "奋(*^ω^*)斗 JT2910835137953       查重\n",
      "--------------------\n",
      "--------------------\n",
      "奋(*^ω^*)斗 JT3010433839349   \n",
      "赖为为，18073061555，湖南省 岳阳市 平江县 凯旋世纪城7栋      拦截退回\n",
      " \n",
      "--------------------\n",
      "--------------------\n",
      "奋(*^ω^*)斗 \n",
      "JT2910836871176阮忠泽，18122452769，江苏省 苏州市 昆山市 玉山镇 樾阁南街与震川路交叉口第二交易厅柏庐消防中队=======拦截\n",
      "--------------------\n",
      "--------------------\n",
      "辣样子旗舰店 JT5140206905160\n",
      "谢芬[7900]\n",
      "18466692081\n",
      "湖北省孝感市汉川市 新河镇电厂八路新城家和苑[7900]\n",
      "拦截退回\n",
      "--------------------\n",
      "--------------------\n",
      "辣样子旗舰店 JT3010433839349\n",
      "  赖为为，18073061555，湖南省 岳阳市 平江县 凯旋世纪城7栋\n",
      "拦截退回\n",
      "--------------------\n",
      "--------------------\n",
      "奋(*^ω^*)斗 JT2910835520724     查重\n",
      "--------------------\n",
      "--------------------\n",
      "辣样子旗舰店 JT3010277891689\n",
      "Lavender Leung，13570498716，广东省 佛山市 南海区 桂城街道佛山市南海区平洲三山中南粮仓东侧禾仰地磅停车场内最后两层板房，000000\n",
      "拦截退回\n",
      "--------------------\n",
      "--------------------\n",
      "初见 JT2910835137953核重1.87KG\n",
      "JT3010433839349己登记拦截\n",
      "JT2910836871176己通知退回\n",
      "JT5140206905160己登记拦截\n",
      "JT2910835520724核重0.03KG\n",
      "JT3010277891689己登记拦截\n",
      "--------------------\n"
     ]
    }
   ],
   "source": [
    "import uiautomation as uia\n",
    "from time import sleep\n",
    "\n",
    "\n",
    "# ss = uia.ListControl(searchDepth=12, Name='会话')\n",
    "# for i in ss.GetChildren():\n",
    "#     print(i.Name)\n",
    "#     # i.Click()\n",
    "#     sleep(1)\n",
    "\n",
    "    # print(i.Name)\n",
    "wechat_app = uia.WindowControl(searchDepth=2, Name='微信', ClassName='WeChatMainWndForPC')\n",
    "msgs = wechat_app.ListControl(Name='消息')\n",
    "for msg in msgs.GetChildren():\n",
    "    # print(len([i for i in msg.GetChildren()]))\n",
    "    if msg.GetChildren()[0].GetChildren():\n",
    "        nickname = msg.GetChildren()[0].GetChildren()\n",
    "        if nickname:\n",
    "            print('-'*20)\n",
    "            print(nickname,msg.Name)\n",
    "            print('-'*20)"
   ]
  },
  {
   "cell_type": "markdown",
   "source": [],
   "metadata": {
    "collapsed": false
   }
  },
  {
   "cell_type": "code",
   "execution_count": 64,
   "outputs": [
    {
     "name": "stdout",
     "output_type": "stream",
     "text": [
      "['AUTHOR_MAIL', 'AccessibleRole', 'AccessibleSelection', 'AccessibleState', 'AnnotationPattern', 'AnnotationType', 'Any', 'AppBarControl', 'Bitmap', 'BringWindowToTop', 'ButtonControl', 'CalendarControl', 'Callable', 'CharacterCodes', 'CheckBoxControl', 'Click', 'ClipboardFormat', 'ComboBoxControl', 'ConsoleColor', 'ConsoleScreenBufferInfo', 'Control', 'ControlConstructors', 'ControlFromCursor', 'ControlFromCursor2', 'ControlFromHandle', 'ControlFromPoint', 'ControlFromPoint2', 'ControlType', 'ControlTypeNames', 'ControlsAreSame', 'CreatePattern', 'CustomControl', 'CustomNavigationPattern', 'DEBUG_EXIST_DISAPPEAR', 'DEBUG_SEARCH_TIME', 'DataGridControl', 'DataItemControl', 'Dict', 'DockPattern', 'DockPosition', 'DocumentControl', 'DpiAwarenessContext', 'DragDrop', 'DragPattern', 'DropTargetPattern', 'EditControl', 'EnumAndLogControl', 'EnumAndLogControlAncestors', 'ExpandCollapsePattern', 'ExpandCollapseState', 'FindControl', 'GAFlag', 'GWL', 'GetAncestor', 'GetClipboardBitmap', 'GetClipboardFormats', 'GetClipboardHtml', 'GetClipboardText', 'GetConsoleOriginalTitle', 'GetConsoleTitle', 'GetConsoleWindow', 'GetCursorPos', 'GetDoubleClickTime', 'GetEditText', 'GetFocusedControl', 'GetForegroundControl', 'GetForegroundWindow', 'GetMonitorsRect', 'GetPatternIdInterface', 'GetPhysicalCursorPos', 'GetPixelColor', 'GetRootControl', 'GetScreenSize', 'GetVirtualScreenSize', 'GetWindowLong', 'GetWindowText', 'GridItemPattern', 'GridPattern', 'GroupControl', 'HARDWAREINPUT', 'HardwareInput', 'HeaderControl', 'HeaderItemControl', 'HyperlinkControl', 'INPUT', 'ImageControl', 'InitializeUIAutomationInCurrentThread', 'Input', 'InputColorfully', 'InputType', 'InvokePattern', 'IsDesktopLocked', 'IsIconic', 'IsKeyPressed', 'IsNT6orHigher', 'IsProcess64Bit', 'IsTopLevelWindow', 'IsUserAnAdmin', 'IsWindowVisible', 'IsZoomed', 'ItemContainerPattern', 'Iterable', 'KEYBDINPUT', 'KeyboardEventFlag', 'KeyboardInput', 'Keys', 'LegacyIAccessiblePattern', 'List', 'ListControl', 'ListItemControl', 'LogControl', 'Logger', 'MAX_MOVE_SECOND', 'MAX_PATH', 'MB', 'METRO_WINDOW_CLASS_NAME', 'MOUSEINPUT', 'MenuBarControl', 'MenuControl', 'MenuItemControl', 'MessageBox', 'MiddleClick', 'MiddleDragDrop', 'MiddlePressMouse', 'MiddleReleaseMouse', 'ModifierKey', 'MouseEventFlag', 'MouseInput', 'MoveTo', 'MoveWindow', 'MultipleViewPattern', 'NavigateDirection', 'OPERATION_WAIT_TIME', 'ObjectModelPattern', 'OrientationType', 'PaneControl', 'PatternConstructors', 'PatternId', 'PatternIdNames', 'PlayWaveFile', 'PostMessage', 'PressKey', 'PressMouse', 'ProcessDpiAwareness', 'ProcessTime', 'ProgressBarControl', 'PropertyId', 'PropertyIdNames', 'RadioButtonControl', 'RangeValuePattern', 'Rect', 'ReleaseKey', 'ReleaseMouse', 'ResetConsoleColor', 'RightClick', 'RightDragDrop', 'RightPressMouse', 'RightReleaseMouse', 'RotateFlipType', 'RowOrColumnMajor', 'RunByHotKey', 'RunScriptAsAdmin', 'SEARCH_INTERVAL', 'SW', 'SWP', 'S_OK', 'ScrollAmount', 'ScrollBarControl', 'ScrollItemPattern', 'ScrollPattern', 'SelectionItemPattern', 'SelectionPattern', 'SemanticZoomControl', 'SendInput', 'SendKey', 'SendKeys', 'SendMessage', 'SendUnicodeChar', 'SeparatorControl', 'SetClipboardBitmap', 'SetClipboardHtml', 'SetClipboardText', 'SetConsoleColor', 'SetConsoleTitle', 'SetCursorPos', 'SetForegroundWindow', 'SetGlobalSearchTimeout', 'SetProcessDpiAwareness', 'SetThreadDpiAwarenessContext', 'SetWindowLong', 'SetWindowPos', 'SetWindowText', 'SetWindowTopmost', 'ShowDesktop', 'ShowWindow', 'SliderControl', 'SpecialKeyNames', 'SpinnerControl', 'SplitButtonControl', 'SpreadsheetItemPattern', 'SpreadsheetPattern', 'StatusBarControl', 'StyleId', 'StylesPattern', 'SwitchToThisWindow', 'SynchronizedInputPattern', 'TIME_OUT_SECOND', 'TabControl', 'TabItemControl', 'TableControl', 'TableItemPattern', 'TablePattern', 'TextAttributeId', 'TextChildPattern', 'TextControl', 'TextEditPattern', 'TextPattern', 'TextPattern2', 'TextPatternRangeEndpoint', 'TextRange', 'TextUnit', 'ThumbControl', 'TitleBarControl', 'TogglePattern', 'ToggleState', 'ToolBarControl', 'ToolTipControl', 'TopLevel', 'TransformPattern', 'TransformPattern2', 'TreeControl', 'TreeItemControl', 'TreeNode', 'Tuple', 'UIAutomationInitializerInThread', 'UninitializeUIAutomationInCurrentThread', 'VERSION', 'ValuePattern', 'VirtualizedItemPattern', 'WaitForDisappear', 'WaitForExist', 'WaitHotKeyReleased', 'WalkControl', 'WalkTree', 'WheelDown', 'WheelUp', 'WindowControl', 'WindowFromPoint', 'WindowInteractionState', 'WindowPattern', 'WindowVisualState', 'ZoomUnit', '__builtins__', '__cached__', '__doc__', '__file__', '__loader__', '__name__', '__package__', '__path__', '__spec__', 'absolute_import', 'comtypes', 'ctypes', 'datetime', 'keybd_event', 'mouse_event', 'os', 're', 'sys', 'threading', 'time', 'uiautomation', 'version']\n",
      "['AcceleratorKey', 'AccessKey', 'AddSearchProperties', 'AriaProperties', 'AriaRole', 'AutomationId', 'BoundingRectangle', 'ButtonControl', 'CalendarControl', 'CaptureToImage', 'CheckBoxControl', 'ClassName', 'Click', 'ComboBoxControl', 'Control', 'ControlType', 'ControlTypeName', 'CreateControlFromControl', 'CreateControlFromElement', 'Culture', 'CustomControl', 'DataGridControl', 'DataItemControl', 'Disappears', 'DocumentControl', 'DoubleClick', 'DragDrop', 'EditControl', 'Element', 'Exists', 'FrameworkId', 'GetAncestorControl', 'GetCachedPattern', 'GetChildren', 'GetClickablePoint', 'GetColorfulSearchPropertiesStr', 'GetExpandCollapsePattern', 'GetFirstChildControl', 'GetInvokePattern', 'GetLastChildControl', 'GetLegacyIAccessiblePattern', 'GetNextSiblingControl', 'GetParentControl', 'GetPattern', 'GetPatternAs', 'GetPixelColor', 'GetPosition', 'GetPreviousSiblingControl', 'GetPropertyValue', 'GetPropertyValueEx', 'GetRuntimeId', 'GetSearchPropertiesStr', 'GetSiblingControl', 'GetTogglePattern', 'GetTopLevelControl', 'GetWindowText', 'GroupControl', 'HasKeyboardFocus', 'HeaderControl', 'HeaderItemControl', 'HelpText', 'Hide', 'HyperlinkControl', 'ImageControl', 'IsContentElement', 'IsControlElement', 'IsDataValidForForm', 'IsEnabled', 'IsKeyboardFocusable', 'IsOffscreen', 'IsPassword', 'IsRequiredForForm', 'IsTopLevel', 'ItemStatus', 'ItemType', 'ListControl', 'ListItemControl', 'LocalizedControlType', 'MenuBarControl', 'MenuControl', 'MenuItemControl', 'MiddleClick', 'MoveCursorToInnerPos', 'MoveCursorToMyCenter', 'MoveWindow', 'Name', 'NativeWindowHandle', 'Orientation', 'PaneControl', 'ProcessId', 'ProgressBarControl', 'ProviderDescription', 'RadioButtonControl', 'Refind', 'RemoveSearchProperties', 'RightClick', 'RightDragDrop', 'ScrollBarControl', 'SemanticZoomControl', 'SendKey', 'SendKeys', 'SeparatorControl', 'SetFocus', 'SetSearchDepth', 'SetSearchFromControl', 'SetWindowText', 'Show', 'ShowWindow', 'SliderControl', 'SpinnerControl', 'SplitButtonControl', 'StatusBarControl', 'TabControl', 'TabItemControl', 'TableControl', 'TextControl', 'ThumbControl', 'TitleBarControl', 'ToBitmap', 'ToolBarControl', 'ToolTipControl', 'TreeControl', 'TreeItemControl', 'ValidKeys', 'WheelDown', 'WheelUp', 'WindowControl', '_CompareFunction', '__class__', '__delattr__', '__dict__', '__dir__', '__doc__', '__eq__', '__format__', '__ge__', '__getattribute__', '__gt__', '__hash__', '__init__', '__init_subclass__', '__le__', '__lt__', '__module__', '__ne__', '__new__', '__reduce__', '__reduce_ex__', '__repr__', '__setattr__', '__sizeof__', '__str__', '__subclasshook__', '__weakref__', '_element', '_elementDirectAssign', '_supportedPatterns', 'foundIndex', 'regexName', 'searchDepth', 'searchFromControl', 'searchInterval', 'searchProperties']\n"
     ]
    },
    {
     "data": {
      "text/plain": "''"
     },
     "execution_count": 63,
     "metadata": {},
     "output_type": "execute_result"
    },
    {
     "name": "stdout",
     "output_type": "stream",
     "text": [
      "['AUTHOR_MAIL', 'AccessibleRole', 'AccessibleSelection', 'AccessibleState', 'AnnotationPattern', 'AnnotationType', 'Any', 'AppBarControl', 'Bitmap', 'BringWindowToTop', 'ButtonControl', 'CalendarControl', 'Callable', 'CharacterCodes', 'CheckBoxControl', 'Click', 'ClipboardFormat', 'ComboBoxControl', 'ConsoleColor', 'ConsoleScreenBufferInfo', 'Control', 'ControlConstructors', 'ControlFromCursor', 'ControlFromCursor2', 'ControlFromHandle', 'ControlFromPoint', 'ControlFromPoint2', 'ControlType', 'ControlTypeNames', 'ControlsAreSame', 'CreatePattern', 'CustomControl', 'CustomNavigationPattern', 'DEBUG_EXIST_DISAPPEAR', 'DEBUG_SEARCH_TIME', 'DataGridControl', 'DataItemControl', 'Dict', 'DockPattern', 'DockPosition', 'DocumentControl', 'DpiAwarenessContext', 'DragDrop', 'DragPattern', 'DropTargetPattern', 'EditControl', 'EnumAndLogControl', 'EnumAndLogControlAncestors', 'ExpandCollapsePattern', 'ExpandCollapseState', 'FindControl', 'GAFlag', 'GWL', 'GetAncestor', 'GetClipboardBitmap', 'GetClipboardFormats', 'GetClipboardHtml', 'GetClipboardText', 'GetConsoleOriginalTitle', 'GetConsoleTitle', 'GetConsoleWindow', 'GetCursorPos', 'GetDoubleClickTime', 'GetEditText', 'GetFocusedControl', 'GetForegroundControl', 'GetForegroundWindow', 'GetMonitorsRect', 'GetPatternIdInterface', 'GetPhysicalCursorPos', 'GetPixelColor', 'GetRootControl', 'GetScreenSize', 'GetVirtualScreenSize', 'GetWindowLong', 'GetWindowText', 'GridItemPattern', 'GridPattern', 'GroupControl', 'HARDWAREINPUT', 'HardwareInput', 'HeaderControl', 'HeaderItemControl', 'HyperlinkControl', 'INPUT', 'ImageControl', 'InitializeUIAutomationInCurrentThread', 'Input', 'InputColorfully', 'InputType', 'InvokePattern', 'IsDesktopLocked', 'IsIconic', 'IsKeyPressed', 'IsNT6orHigher', 'IsProcess64Bit', 'IsTopLevelWindow', 'IsUserAnAdmin', 'IsWindowVisible', 'IsZoomed', 'ItemContainerPattern', 'Iterable', 'KEYBDINPUT', 'KeyboardEventFlag', 'KeyboardInput', 'Keys', 'LegacyIAccessiblePattern', 'List', 'ListControl', 'ListItemControl', 'LogControl', 'Logger', 'MAX_MOVE_SECOND', 'MAX_PATH', 'MB', 'METRO_WINDOW_CLASS_NAME', 'MOUSEINPUT', 'MenuBarControl', 'MenuControl', 'MenuItemControl', 'MessageBox', 'MiddleClick', 'MiddleDragDrop', 'MiddlePressMouse', 'MiddleReleaseMouse', 'ModifierKey', 'MouseEventFlag', 'MouseInput', 'MoveTo', 'MoveWindow', 'MultipleViewPattern', 'NavigateDirection', 'OPERATION_WAIT_TIME', 'ObjectModelPattern', 'OrientationType', 'PaneControl', 'PatternConstructors', 'PatternId', 'PatternIdNames', 'PlayWaveFile', 'PostMessage', 'PressKey', 'PressMouse', 'ProcessDpiAwareness', 'ProcessTime', 'ProgressBarControl', 'PropertyId', 'PropertyIdNames', 'RadioButtonControl', 'RangeValuePattern', 'Rect', 'ReleaseKey', 'ReleaseMouse', 'ResetConsoleColor', 'RightClick', 'RightDragDrop', 'RightPressMouse', 'RightReleaseMouse', 'RotateFlipType', 'RowOrColumnMajor', 'RunByHotKey', 'RunScriptAsAdmin', 'SEARCH_INTERVAL', 'SW', 'SWP', 'S_OK', 'ScrollAmount', 'ScrollBarControl', 'ScrollItemPattern', 'ScrollPattern', 'SelectionItemPattern', 'SelectionPattern', 'SemanticZoomControl', 'SendInput', 'SendKey', 'SendKeys', 'SendMessage', 'SendUnicodeChar', 'SeparatorControl', 'SetClipboardBitmap', 'SetClipboardHtml', 'SetClipboardText', 'SetConsoleColor', 'SetConsoleTitle', 'SetCursorPos', 'SetForegroundWindow', 'SetGlobalSearchTimeout', 'SetProcessDpiAwareness', 'SetThreadDpiAwarenessContext', 'SetWindowLong', 'SetWindowPos', 'SetWindowText', 'SetWindowTopmost', 'ShowDesktop', 'ShowWindow', 'SliderControl', 'SpecialKeyNames', 'SpinnerControl', 'SplitButtonControl', 'SpreadsheetItemPattern', 'SpreadsheetPattern', 'StatusBarControl', 'StyleId', 'StylesPattern', 'SwitchToThisWindow', 'SynchronizedInputPattern', 'TIME_OUT_SECOND', 'TabControl', 'TabItemControl', 'TableControl', 'TableItemPattern', 'TablePattern', 'TextAttributeId', 'TextChildPattern', 'TextControl', 'TextEditPattern', 'TextPattern', 'TextPattern2', 'TextPatternRangeEndpoint', 'TextRange', 'TextUnit', 'ThumbControl', 'TitleBarControl', 'TogglePattern', 'ToggleState', 'ToolBarControl', 'ToolTipControl', 'TopLevel', 'TransformPattern', 'TransformPattern2', 'TreeControl', 'TreeItemControl', 'TreeNode', 'Tuple', 'UIAutomationInitializerInThread', 'UninitializeUIAutomationInCurrentThread', 'VERSION', 'ValuePattern', 'VirtualizedItemPattern', 'WaitForDisappear', 'WaitForExist', 'WaitHotKeyReleased', 'WalkControl', 'WalkTree', 'WheelDown', 'WheelUp', 'WindowControl', 'WindowFromPoint', 'WindowInteractionState', 'WindowPattern', 'WindowVisualState', 'ZoomUnit', '__builtins__', '__cached__', '__doc__', '__file__', '__loader__', '__name__', '__package__', '__path__', '__spec__', 'absolute_import', 'comtypes', 'ctypes', 'datetime', 'keybd_event', 'mouse_event', 'os', 're', 'sys', 'threading', 'time', 'uiautomation', 'version']\n",
      "['AcceleratorKey', 'AccessKey', 'AddSearchProperties', 'AriaProperties', 'AriaRole', 'AutomationId', 'BoundingRectangle', 'ButtonControl', 'CalendarControl', 'CaptureToImage', 'CheckBoxControl', 'ClassName', 'Click', 'ComboBoxControl', 'Control', 'ControlType', 'ControlTypeName', 'CreateControlFromControl', 'CreateControlFromElement', 'Culture', 'CustomControl', 'DataGridControl', 'DataItemControl', 'Disappears', 'DocumentControl', 'DoubleClick', 'DragDrop', 'EditControl', 'Element', 'Exists', 'FrameworkId', 'GetAncestorControl', 'GetCachedPattern', 'GetChildren', 'GetClickablePoint', 'GetColorfulSearchPropertiesStr', 'GetExpandCollapsePattern', 'GetFirstChildControl', 'GetInvokePattern', 'GetLastChildControl', 'GetLegacyIAccessiblePattern', 'GetNextSiblingControl', 'GetParentControl', 'GetPattern', 'GetPatternAs', 'GetPixelColor', 'GetPosition', 'GetPreviousSiblingControl', 'GetPropertyValue', 'GetPropertyValueEx', 'GetRuntimeId', 'GetSearchPropertiesStr', 'GetSiblingControl', 'GetTogglePattern', 'GetTopLevelControl', 'GetWindowText', 'GroupControl', 'HasKeyboardFocus', 'HeaderControl', 'HeaderItemControl', 'HelpText', 'Hide', 'HyperlinkControl', 'ImageControl', 'IsContentElement', 'IsControlElement', 'IsDataValidForForm', 'IsEnabled', 'IsKeyboardFocusable', 'IsOffscreen', 'IsPassword', 'IsRequiredForForm', 'IsTopLevel', 'ItemStatus', 'ItemType', 'ListControl', 'ListItemControl', 'LocalizedControlType', 'MenuBarControl', 'MenuControl', 'MenuItemControl', 'MiddleClick', 'MoveCursorToInnerPos', 'MoveCursorToMyCenter', 'MoveWindow', 'Name', 'NativeWindowHandle', 'Orientation', 'PaneControl', 'ProcessId', 'ProgressBarControl', 'ProviderDescription', 'RadioButtonControl', 'Refind', 'RemoveSearchProperties', 'RightClick', 'RightDragDrop', 'ScrollBarControl', 'SemanticZoomControl', 'SendKey', 'SendKeys', 'SeparatorControl', 'SetFocus', 'SetSearchDepth', 'SetSearchFromControl', 'SetWindowText', 'Show', 'ShowWindow', 'SliderControl', 'SpinnerControl', 'SplitButtonControl', 'StatusBarControl', 'TabControl', 'TabItemControl', 'TableControl', 'TextControl', 'ThumbControl', 'TitleBarControl', 'ToBitmap', 'ToolBarControl', 'ToolTipControl', 'TreeControl', 'TreeItemControl', 'ValidKeys', 'WheelDown', 'WheelUp', 'WindowControl', '_CompareFunction', '__class__', '__delattr__', '__dict__', '__dir__', '__doc__', '__eq__', '__format__', '__ge__', '__getattribute__', '__gt__', '__hash__', '__init__', '__init_subclass__', '__le__', '__lt__', '__module__', '__ne__', '__new__', '__reduce__', '__reduce_ex__', '__repr__', '__setattr__', '__sizeof__', '__str__', '__subclasshook__', '__weakref__', '_element', '_elementDirectAssign', '_supportedPatterns', 'foundIndex', 'regexName', 'searchDepth', 'searchFromControl', 'searchInterval', 'searchProperties']\n"
     ]
    },
    {
     "data": {
      "text/plain": "''"
     },
     "execution_count": 64,
     "metadata": {},
     "output_type": "execute_result"
    }
   ],
   "source": [
    "print(dir(uia))\n",
    "print(dir(wechat_app.ButtonControl(Name='聊天')))\n",
    "talk = wechat_app.ButtonControl(Name='聊天')\n"
   ],
   "metadata": {
    "collapsed": false,
    "pycharm": {
     "name": "#%%\n"
    }
   }
  },
  {
   "cell_type": "code",
   "execution_count": 67,
   "outputs": [
    {
     "data": {
      "text/plain": "'聊天'"
     },
     "execution_count": 67,
     "metadata": {},
     "output_type": "execute_result"
    }
   ],
   "source": [
    "talk.Name"
   ],
   "metadata": {
    "collapsed": false,
    "pycharm": {
     "name": "#%%\n"
    }
   }
  },
  {
   "cell_type": "code",
   "execution_count": 69,
   "outputs": [
    {
     "data": {
      "text/plain": "True"
     },
     "execution_count": 69,
     "metadata": {},
     "output_type": "execute_result"
    }
   ],
   "source": [
    "talk.Exists()"
   ],
   "metadata": {
    "collapsed": false,
    "pycharm": {
     "name": "#%%\n"
    }
   }
  },
  {
   "cell_type": "code",
   "execution_count": 70,
   "outputs": [
    {
     "data": {
      "text/plain": "(0, 0, False)"
     },
     "execution_count": 70,
     "metadata": {},
     "output_type": "execute_result"
    }
   ],
   "source": [
    "talk.GetClickablePoint()"
   ],
   "metadata": {
    "collapsed": false,
    "pycharm": {
     "name": "#%%\n"
    }
   }
  },
  {
   "cell_type": "code",
   "execution_count": 102,
   "outputs": [],
   "source": [
    "talk.Click()"
   ],
   "metadata": {
    "collapsed": false,
    "pycharm": {
     "name": "#%%\n"
    }
   }
  },
  {
   "cell_type": "code",
   "execution_count": 116,
   "outputs": [
    {
     "data": {
      "text/plain": "True"
     },
     "execution_count": 116,
     "metadata": {},
     "output_type": "execute_result"
    }
   ],
   "source": [
    "input_msg = wechat_app.EditControl(Name='输入')\n",
    "input_msg.Exists()\n",
    "send_btn = wechat_app.ButtonControl(Name = 'sendBtn')\n",
    "send_btn.Exists()"
   ],
   "metadata": {
    "collapsed": false,
    "pycharm": {
     "name": "#%%\n"
    }
   }
  },
  {
   "cell_type": "code",
   "execution_count": 119,
   "outputs": [],
   "source": [
    "for i in range(3):\n",
    "    input_msg.SendKeys('安您好漂亮呀，好哦SDK拉拉裤\\n的时间里房间辣快结束了打开进来封口机埃里克森建档立卡房间里哭',interval=0.1)\n",
    "    send_btn.Click()\n"
   ],
   "metadata": {
    "collapsed": false,
    "pycharm": {
     "name": "#%%\n"
    }
   }
  },
  {
   "cell_type": "code",
   "execution_count": 22,
   "outputs": [
    {
     "ename": "TypeError",
     "evalue": "object of type 'EditControl' has no len()",
     "output_type": "error",
     "traceback": [
      "\u001B[1;31m---------------------------------------------------------------------------\u001B[0m",
      "\u001B[1;31mTypeError\u001B[0m                                 Traceback (most recent call last)",
      "Input \u001B[1;32mIn [22]\u001B[0m, in \u001B[0;36m<cell line: 6>\u001B[1;34m()\u001B[0m\n\u001B[0;32m     25\u001B[0m detail \u001B[38;5;241m=\u001B[39m details[\u001B[38;5;241m-\u001B[39m\u001B[38;5;241m1\u001B[39m]\u001B[38;5;241m.\u001B[39mGetChildren()[\u001B[38;5;241m0\u001B[39m]\u001B[38;5;241m.\u001B[39mGetChildren()[\u001B[38;5;241m0\u001B[39m]\u001B[38;5;241m.\u001B[39mGetChildren()[\u001B[38;5;241m0\u001B[39m]\n\u001B[0;32m     26\u001B[0m details \u001B[38;5;241m=\u001B[39m detail\u001B[38;5;241m.\u001B[39mGetChildren()\n\u001B[1;32m---> 28\u001B[0m \u001B[38;5;28;01mif\u001B[39;00m \u001B[38;5;28;43mlen\u001B[39;49m\u001B[43m(\u001B[49m\u001B[43mdetail\u001B[49m\u001B[43m)\u001B[49m \u001B[38;5;241m!=\u001B[39m \u001B[38;5;241m0\u001B[39m:\n\u001B[0;32m     29\u001B[0m     link_title \u001B[38;5;241m=\u001B[39m details[\u001B[38;5;241m0\u001B[39m]\u001B[38;5;241m.\u001B[39mName\n\u001B[0;32m     30\u001B[0m     link_content \u001B[38;5;241m=\u001B[39m details[\u001B[38;5;241m1\u001B[39m]\u001B[38;5;241m.\u001B[39mName\n",
      "\u001B[1;31mTypeError\u001B[0m: object of type 'EditControl' has no len()"
     ]
    }
   ],
   "source": [
    "import pandas as pd\n",
    "wechat_app.SetFocus()\n",
    "msgs = wechat_app.ListControl(Name='消息')\n",
    "result = []\n",
    "time = pd.NA\n",
    "for msg in msgs.GetChildren():\n",
    "    content = msg.Name\n",
    "    if content in ['查看更多消息','以下为新消息']:\n",
    "        continue\n",
    "    details = msg.GetChildren()[0].GetChildren()\n",
    "    if len(details) == 0:\n",
    "        time = content\n",
    "        continue\n",
    "    nickname, detail, me = details\n",
    "    name = nickname.Name\n",
    "    if me.Name:\n",
    "        name = me.Name\n",
    "\n",
    "    link_all = pd.NA\n",
    "    if not (content == '[图片]' or content.startswith('[语音]')):\n",
    "        details = detail.GetChildren()\n",
    "        if len(details) == 0:\n",
    "            continue\n",
    "\n",
    "        detail = details[-1].GetChildren()[0].GetChildren()[0].GetChildren()[0]\n",
    "        details = detail.GetChildren()\n",
    "\n",
    "        if len(detail) != 0:\n",
    "            link_title = details[0].Name\n",
    "            link_content = details[1].Name\n",
    "            content += f'{link_title}\\n{link_content}'\n",
    "    result.append((time,name,content.strip()))\n",
    "df = pd.DataFrame(result, columns=['时间','昵称','内容'])\n",
    "df\n",
    "\n"
   ],
   "metadata": {
    "collapsed": false,
    "pycharm": {
     "name": "#%%\n"
    }
   }
  }
 ],
 "metadata": {
  "kernelspec": {
   "display_name": "Python 3",
   "language": "python",
   "name": "python3"
  },
  "language_info": {
   "codemirror_mode": {
    "name": "ipython",
    "version": 2
   },
   "file_extension": ".py",
   "mimetype": "text/x-python",
   "name": "python",
   "nbconvert_exporter": "python",
   "pygments_lexer": "ipython2",
   "version": "2.7.6"
  }
 },
 "nbformat": 4,
 "nbformat_minor": 0
}